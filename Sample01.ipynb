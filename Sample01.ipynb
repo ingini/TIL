{
 "cells": [
  {
   "cell_type": "code",
   "execution_count": 19,
   "metadata": {},
   "outputs": [
    {
     "name": "stdout",
     "output_type": "stream",
     "text": [
      "I am angry\n",
      "I am happy 20\n",
      "I am angry\n",
      "I am happy 40\n",
      "test method\n"
     ]
    }
   ],
   "source": [
    "# Creating Class's Student\n",
    "class Student:\n",
    "    # states => variables 상태\n",
    "    # behaviors => methods 동작    \n",
    "    # default constructor\n",
    "    def __init__(self, name, age):\n",
    "        self.name = name\n",
    "        self.age = age\n",
    "    def gotoSchool(self):\n",
    "        print(\"I am angry\")\n",
    "    def gobackHome(self):\n",
    "        print(\"I am happy\", self.age)\n",
    "\n",
    "# Creating instance object\n",
    "stu1 = Student('Tom',20)\n",
    "stu1.gotoSchool()\n",
    "stu1.gobackHome()\n",
    "stu2 = Student('Amy',40)\n",
    "stu2.gotoSchool()\n",
    "stu2.gobackHome()\n",
    "\n",
    "def test():\n",
    "    print(\"test method\")\n",
    "\n",
    "test()    "
   ]
  },
  {
   "cell_type": "code",
   "execution_count": 45,
   "metadata": {},
   "outputs": [
    {
     "name": "stdout",
     "output_type": "stream",
     "text": [
      "Amy\n",
      "Amy 20\n",
      "Tom\n",
      "None\n",
      "Employee\n",
      "<class 'type'>\n",
      "__main__\n",
      "(<class 'object'>,)\n",
      "{'__module__': '__main__', 'name': 'Tom', '__init__': <function Employee.__init__ at 0x000001CC5A117620>, 'working': <function Employee.working at 0x000001CC5A1178C8>, '__dict__': <attribute '__dict__' of 'Employee' objects>, '__weakref__': <attribute '__weakref__' of 'Employee' objects>, '__doc__': None}\n"
     ]
    }
   ],
   "source": [
    "class Employee:\n",
    "    #pass\n",
    "    name = 'Tom'\n",
    "    'Test Doc......dddd'\n",
    "    def __init__(self,name):\n",
    "        self.name = name\n",
    "        print(\"%s\" % self.name)\n",
    "    def working(self, age):\n",
    "        self.age = age\n",
    "        print(\"%s %d\" % (self.name, self.age))       \n",
    "        \n",
    "emp2 = Employee('Amy')\n",
    "emp2.working(20)\n",
    "print(emp2.__class__.name)\n",
    "print(Employee.__doc__) # comment in class\n",
    "print(Employee.__name__) # Class name\n",
    "print(Employee.__class__) # type \n",
    "print(Employee.__module__) # class in module 선언되어있으면 __main__\n",
    "print(Employee.__bases__) # base class\n",
    "print(Employee.__dict__) # class...-> diction"
   ]
  },
  {
   "cell_type": "code",
   "execution_count": 63,
   "metadata": {},
   "outputs": [],
   "source": [
    "class Point:\n",
    "    def __init__(self,x=0,y=0): # constructor 생성자\n",
    "        self.x = x\n",
    "        self.y = y\n",
    "        print(\"x : %d, y : %d\" % (self.x, self.y))\n",
    "    def __del__(self): # destructor 소멸자\n",
    "        class_name = self.__class__.__name__\n",
    "        print(class_name, \"destoryed\")"
   ]
  },
  {
   "cell_type": "code",
   "execution_count": 64,
   "metadata": {},
   "outputs": [
    {
     "name": "stdout",
     "output_type": "stream",
     "text": [
      "x : 0, y : 0\n",
      "Point destoryed\n",
      "x : 1, y : 0\n",
      "Point destoryed\n",
      "x : 1, y : 2\n",
      "Point destoryed\n"
     ]
    }
   ],
   "source": [
    "pt1 = Point()\n",
    "pt2 = Point(1)\n",
    "pt3 = Point(1,2)\n",
    "#pt2 = pt1\n",
    "#pt3 = pt1\n",
    "#print(id(pt1), id(pt2), id(pt3))\n",
    "#del pt1\n",
    "#del pt2\n",
    "#del pt3"
   ]
  },
  {
   "cell_type": "code",
   "execution_count": 75,
   "metadata": {},
   "outputs": [
    {
     "name": "stdout",
     "output_type": "stream",
     "text": [
      "Animal Constructor\n",
      "Dog Constructor\n"
     ]
    }
   ],
   "source": [
    "class  Animal:\n",
    "    test = 0\n",
    "    def __init__(self):\n",
    "        print(\"Animal Constructor\")\n",
    "    def breath(self):\n",
    "        print(\"Animal Breath\")\n",
    "\n",
    "class Dog(Animal):\n",
    "    def __init__(self):\n",
    "        super().__init__()\n",
    "        print(\"Dog Constructor\")\n",
    "    def bark(self):\n",
    "        print(\"Dog Bark\")\n",
    "\n",
    "class SibaDog(Dog):\n",
    "    def __init__(self):\n",
    "        print(\"SibaDog Constructor\")\n",
    "    def breath(self): # override\n",
    "        print(\"SibaDog Breath\")\n",
    "\n",
    "#a = Animal()\n",
    "b = Dog()\n",
    "\n",
    "\n",
    "              "
   ]
  },
  {
   "cell_type": "code",
   "execution_count": null,
   "metadata": {},
   "outputs": [],
   "source": [
    "# Overriding def의 재정의 클래스가 상속관계일때 같은 이름의 함수를\n",
    "# 재정하는 것\n",
    "# Overloading 같은 클래스에서 함수의 매개변수가 다른 경우에 사용"
   ]
  },
  {
   "cell_type": "code",
   "execution_count": 82,
   "metadata": {},
   "outputs": [],
   "source": [
    "class Myclass:\n",
    "    def __init__(self, a=0, b=0):\n",
    "        self.a = a\n",
    "        self.b = b\n",
    "\n",
    "m = Myclass(1)\n",
    "m2 = Myclass(a=1,b=0)\n",
    "m3 = Myclass(b=0,a=1)"
   ]
  },
  {
   "cell_type": "code",
   "execution_count": 96,
   "metadata": {},
   "outputs": [
    {
     "name": "stdout",
     "output_type": "stream",
     "text": [
      "Constructor\n"
     ]
    },
    {
     "ename": "AttributeError",
     "evalue": "type object 'Myclass2' has no attribute 'name2'",
     "output_type": "error",
     "traceback": [
      "\u001b[1;31m---------------------------------------------------------------------------\u001b[0m",
      "\u001b[1;31mAttributeError\u001b[0m                            Traceback (most recent call last)",
      "\u001b[1;32m<ipython-input-96-66677047e758>\u001b[0m in \u001b[0;36m<module>\u001b[1;34m\u001b[0m\n\u001b[0;32m     10\u001b[0m \u001b[1;31m#m4.__class__.__name2\u001b[0m\u001b[1;33m\u001b[0m\u001b[1;33m\u001b[0m\u001b[1;33m\u001b[0m\u001b[0m\n\u001b[0;32m     11\u001b[0m \u001b[0mMyclass2\u001b[0m\u001b[1;33m.\u001b[0m\u001b[0mname\u001b[0m\u001b[1;33m\u001b[0m\u001b[1;33m\u001b[0m\u001b[0m\n\u001b[1;32m---> 12\u001b[1;33m \u001b[0mMyclass2\u001b[0m\u001b[1;33m.\u001b[0m\u001b[0mname2\u001b[0m\u001b[1;33m\u001b[0m\u001b[1;33m\u001b[0m\u001b[0m\n\u001b[0m\u001b[0;32m     13\u001b[0m \u001b[0mm4\u001b[0m\u001b[1;33m.\u001b[0m\u001b[0m__class__\u001b[0m\u001b[1;33m.\u001b[0m\u001b[0mname\u001b[0m\u001b[1;33m\u001b[0m\u001b[1;33m\u001b[0m\u001b[0m\n",
      "\u001b[1;31mAttributeError\u001b[0m: type object 'Myclass2' has no attribute 'name2'"
     ]
    }
   ],
   "source": [
    "# Data hiding\n",
    "class Myclass2:\n",
    "    name = 100 # public\n",
    "    __name2 = 200\n",
    "    def __init__(self):\n",
    "        print(\"Constructor\")\n",
    "\n",
    "m4 = Myclass2()\n",
    "m4.__class__.name\n",
    "#m4.__class__.__name2\n",
    "Myclass2.name\n",
    "Myclass2.name2\n",
    "m4.__class__.name\n"
   ]
  },
  {
   "cell_type": "code",
   "execution_count": 117,
   "metadata": {},
   "outputs": [
    {
     "data": {
      "text/plain": [
       "'홍길동'"
      ]
     },
     "execution_count": 117,
     "metadata": {},
     "output_type": "execute_result"
    }
   ],
   "source": [
    "# 캡슐화, 상속성, 다형성\n",
    "# Python OOP\n",
    "\n",
    "class Employee2:\n",
    "    name2 = \"\"    \n",
    "    def getName(self):\n",
    "        return Employee2.name2\n",
    "    def setName(self, name):\n",
    "         Employee2.name2 = name\n",
    "        \n",
    "emp2 = Employee2()\n",
    "emp2.setName(\"홍길동\")\n",
    "emp2.getName()\n",
    "\n",
    "Employee2.name2\n",
    "\n"
   ]
  },
  {
   "cell_type": "code",
   "execution_count": null,
   "metadata": {},
   "outputs": [],
   "source": []
  },
  {
   "cell_type": "code",
   "execution_count": null,
   "metadata": {},
   "outputs": [],
   "source": []
  },
  {
   "cell_type": "code",
   "execution_count": null,
   "metadata": {},
   "outputs": [],
   "source": []
  }
 ],
 "metadata": {
  "kernelspec": {
   "display_name": "Python 3",
   "language": "python",
   "name": "python3"
  },
  "language_info": {
   "codemirror_mode": {
    "name": "ipython",
    "version": 3
   },
   "file_extension": ".py",
   "mimetype": "text/x-python",
   "name": "python",
   "nbconvert_exporter": "python",
   "pygments_lexer": "ipython3",
   "version": "3.7.3"
  }
 },
 "nbformat": 4,
 "nbformat_minor": 2
}
